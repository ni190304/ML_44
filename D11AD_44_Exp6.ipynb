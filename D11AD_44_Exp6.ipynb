{
 "cells": [
  {
   "cell_type": "code",
   "execution_count": 34,
   "id": "5ef9cf76",
   "metadata": {},
   "outputs": [],
   "source": [
    "inputs = []\n",
    "weights = []"
   ]
  },
  {
   "cell_type": "code",
   "execution_count": 35,
   "id": "b66809ac",
   "metadata": {},
   "outputs": [
    {
     "name": "stdout",
     "output_type": "stream",
     "text": [
      "Enter the no of inputs: 4\n"
     ]
    }
   ],
   "source": [
    "no_of_inp = int(input('Enter the no of inputs: '))"
   ]
  },
  {
   "cell_type": "code",
   "execution_count": 36,
   "id": "9a48dda4",
   "metadata": {},
   "outputs": [
    {
     "name": "stdout",
     "output_type": "stream",
     "text": [
      "Enter the input 1 (0,1): 0\n",
      "Enter the weight 1 (0,1): 1\n",
      "Enter the input 2 (0,1): 1\n",
      "Enter the weight 2 (0,1): 1\n",
      "Enter the input 3 (0,1): 1\n",
      "Enter the weight 3 (0,1): 1\n",
      "Enter the input 4 (0,1): 0\n",
      "Enter the weight 4 (0,1): 1\n"
     ]
    }
   ],
   "source": [
    "for i in range(no_of_inp):\n",
    "    while True:\n",
    "        inp = int(input(f'Enter the input {i+1} (0,1): '))\n",
    "        if inp == 0 or inp == 1:\n",
    "            inputs.append(inp)\n",
    "            break\n",
    "        else:\n",
    "            print(\"Invalid input! Inputs must be 0 or 1. Please try again.\")\n",
    "\n",
    "    while True:\n",
    "        weig = int(input(f'Enter the weight {i+1} (0,1): '))\n",
    "        if weig == 0 or weig == 1:\n",
    "            weights.append(weig)\n",
    "            break\n",
    "        else:\n",
    "            print(\"Invalid weight! Weights must be 0 or 1. Please try again.\")\n"
   ]
  },
  {
   "cell_type": "code",
   "execution_count": 37,
   "id": "8dfa21b1",
   "metadata": {},
   "outputs": [
    {
     "name": "stdout",
     "output_type": "stream",
     "text": [
      "Inputs: [0, 1, 1, 0]\n",
      "Weights: [1, 1, 1, 1]\n"
     ]
    }
   ],
   "source": [
    "print(\"Inputs:\", inputs)\n",
    "print(\"Weights:\", weights)"
   ]
  },
  {
   "cell_type": "code",
   "execution_count": 38,
   "id": "e1d4ed63",
   "metadata": {},
   "outputs": [],
   "source": [
    "def mp_neuron_and(inputs, weights, threshold_and):\n",
    "    weighted_input = sum(inp * wei for inp, wei in zip(inputs, weights))\n",
    "    if weighted_input >= threshold_and:\n",
    "        return 1\n",
    "    else:\n",
    "        return 0"
   ]
  },
  {
   "cell_type": "code",
   "execution_count": 39,
   "id": "dbda5837",
   "metadata": {},
   "outputs": [],
   "source": [
    "def mp_neuron_or(inputs, weights, threshold_or):\n",
    "    weighted_input = sum(inp * wei for inp, wei in zip(inputs, weights))\n",
    "    if weighted_input >= threshold_or:\n",
    "        return 1\n",
    "    else:\n",
    "        return 0"
   ]
  },
  {
   "cell_type": "code",
   "execution_count": 40,
   "id": "7a5d07b2",
   "metadata": {},
   "outputs": [
    {
     "name": "stdout",
     "output_type": "stream",
     "text": [
      "Threshold for AND gate: 4\n",
      "Threshold for OR gate: 3\n"
     ]
    }
   ],
   "source": [
    "import random\n",
    "\n",
    "threshold_and = len(inputs) \n",
    "threshold_or = random.randint(0, threshold_and-1)             \n",
    "\n",
    "print(\"Threshold for AND gate:\", threshold_and)\n",
    "print(\"Threshold for OR gate:\", threshold_or)"
   ]
  },
  {
   "cell_type": "code",
   "execution_count": 41,
   "id": "fbb757f8",
   "metadata": {},
   "outputs": [
    {
     "name": "stdout",
     "output_type": "stream",
     "text": [
      "Output for AND gate: 0\n",
      "Output for OR gate: 0\n"
     ]
    }
   ],
   "source": [
    "And = mp_neuron_and(inputs, weights, threshold_and)\n",
    "Or = mp_neuron_or(inputs, weights, threshold_or)\n",
    "\n",
    "print(\"Output for AND gate:\", And)\n",
    "print(\"Output for OR gate:\", Or)"
   ]
  },
  {
   "cell_type": "code",
   "execution_count": null,
   "id": "0322c44e",
   "metadata": {},
   "outputs": [],
   "source": []
  }
 ],
 "metadata": {
  "kernelspec": {
   "display_name": "Python 3 (ipykernel)",
   "language": "python",
   "name": "python3"
  },
  "language_info": {
   "codemirror_mode": {
    "name": "ipython",
    "version": 3
   },
   "file_extension": ".py",
   "mimetype": "text/x-python",
   "name": "python",
   "nbconvert_exporter": "python",
   "pygments_lexer": "ipython3",
   "version": "3.11.5"
  }
 },
 "nbformat": 4,
 "nbformat_minor": 5
}
